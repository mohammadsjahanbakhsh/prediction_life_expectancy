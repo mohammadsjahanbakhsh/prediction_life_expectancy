{
  "nbformat": 4,
  "nbformat_minor": 0,
  "metadata": {
    "colab": {
      "private_outputs": true,
      "provenance": [],
      "mount_file_id": "1IOYIcjNOpiX36O35yfoyl-r03j65iPXd",
      "authorship_tag": "ABX9TyPW/V/gIGIXRjE+ZcC0pa7d",
      "include_colab_link": true
    },
    "kernelspec": {
      "name": "python3",
      "display_name": "Python 3"
    },
    "language_info": {
      "name": "python"
    },
    "gpuClass": "standard"
  },
  "cells": [
    {
      "cell_type": "markdown",
      "metadata": {
        "id": "view-in-github",
        "colab_type": "text"
      },
      "source": [
        "<a href=\"https://colab.research.google.com/github/mohammadsjahanbakhsh/project2_quera/blob/main/Untitled2.ipynb\" target=\"_parent\"><img src=\"https://colab.research.google.com/assets/colab-badge.svg\" alt=\"Open In Colab\"/></a>"
      ]
    },
    {
      "cell_type": "markdown",
      "source": [
        "## preprocessing"
      ],
      "metadata": {
        "id": "D7dOxUhog1TI"
      }
    },
    {
      "cell_type": "code",
      "source": [
        "import pandas as pd\n",
        "from google.colab import drive\n",
        "drive.mount('/content/drive')"
      ],
      "metadata": {
        "id": "JTyL4-8BCrUk"
      },
      "execution_count": null,
      "outputs": []
    },
    {
      "cell_type": "code",
      "source": [
        "\n",
        "\n",
        "def transform(dataset,country_column) :\n",
        "       \n",
        "        \n",
        "        cols_with_na = dataset.isna().sum()[dataset.isna().sum()>0].index.tolist()\n",
        "        \n",
        "        for col in cols_with_na : \n",
        "          \n",
        "          dataset[col]=dataset.groupby([country_column])[col].transform(lambda x: x.fillna(x.mean()))\n",
        "          \n",
        "        cols_with_na = dataset.isna().sum()[dataset.isna().sum()>0].index.tolist()\n",
        "        \n",
        "        for col in cols_with_na : \n",
        "            dataset.loc[:,col].fillna(dataset[col].median(),inplace=True)\n",
        "            \n",
        "        \n",
        "        return dataset\n",
        "\n",
        "\n",
        "\n",
        "def transform2(dataset,drop_list):\n",
        "  dataset=dataset[dataset.Year>=1950]\n",
        "  dataset.drop(drop_list,axis=1,inplace=True)\n",
        "\n",
        "  return dataset\n",
        "\n",
        "Additional_column=[\"Variant\",\"Notes\",\"ISO3 Alpha-code\",\"ISO2 Alpha-code\",\"SDMX code**\",\"Type\",\"Location code\",\"Parent code\"]"
      ],
      "metadata": {
        "id": "IC7lh54F1XeO"
      },
      "execution_count": null,
      "outputs": []
    },
    {
      "cell_type": "code",
      "source": [],
      "metadata": {
        "id": "RXpW8IhThudA"
      },
      "execution_count": null,
      "outputs": []
    },
    {
      "cell_type": "code",
      "execution_count": null,
      "metadata": {
        "id": "9XK76QZH008K"
      },
      "outputs": [],
      "source": [
        "death=pd.read_csv(\"/content/drive/MyDrive/data/suicide-vs-violent-deaths.csv\")"
      ]
    },
    {
      "cell_type": "code",
      "source": [
        "death=transform2(death,['Population (historical estimates)', 'Continent',\"Code\"])\n",
        "# death=transform(death,'Entity')"
      ],
      "metadata": {
        "id": "FD5xdcYx008P"
      },
      "execution_count": null,
      "outputs": []
    },
    {
      "cell_type": "code",
      "source": [
        "vaccine=pd.read_csv(\"/content/drive/MyDrive/quera ama/dataset 2/child-mortality-vs-share-of-children-immunized-against-diphtheria-pertussis-and-tetanus.csv\")\n",
        "vaccine=transform2(vaccine,['Population (historical estimates)', 'Continent','Code',\"Mortality rate, under-5 (per 1,000 live births)\"])\n",
        "# vaccine=transform(vaccine,'Entity')"
      ],
      "metadata": {
        "id": "SJ8qn_C5008Q"
      },
      "execution_count": null,
      "outputs": []
    },
    {
      "cell_type": "code",
      "source": [
        "gdp=pd.read_csv(\"/content/drive/MyDrive/dataset 2/life-expectancy-vs-gdp-per-capita.csv\")\n",
        "gdp.columns"
      ],
      "metadata": {
        "id": "PmiR6ZmvozN6"
      },
      "execution_count": null,
      "outputs": []
    },
    {
      "cell_type": "code",
      "source": [
        "gdp=transform2(gdp,['Code', 'Life expectancy at birth (historical)','417485-annotations','Population (historical estimates)','Continent'])\n",
        "# gdp=transform(gdp,'Entity')"
      ],
      "metadata": {
        "id": "vYGXPQ4IpDrZ"
      },
      "execution_count": null,
      "outputs": []
    },
    {
      "cell_type": "code",
      "execution_count": null,
      "metadata": {
        "id": "LDpUSqBkARhR"
      },
      "outputs": [],
      "source": [
        "Estimates=pd.read_excel(\"/content/drive/MyDrive/WPP2022.xlsx\",sheet_name=\"Estimates\")\n"
      ]
    },
    {
      "cell_type": "code",
      "execution_count": null,
      "metadata": {
        "id": "k2KVn3L3ARhS"
      },
      "outputs": [],
      "source": [
        "from numpy import nan\n",
        "\n",
        "columns=list(Estimates.iloc[15])\n",
        "Estimates=Estimates[16:]\n",
        "Estimates.columns=columns\n",
        "Estimates=Estimates.set_index(\"Index\")\n",
        "\n",
        "Estimates=Estimates.loc[Estimates.iloc[:,4].notna(),:]\n",
        "Estimates.replace(\"...\",nan,inplace=True)"
      ]
    },
    {
      "cell_type": "code",
      "source": [
        "x=vaccine.merge(death,how=\"outer\").merge(gdp,how=\"outer\")\n",
        "\n",
        "Estimates=Estimates.merge(x,left_on=[\"Region, subregion, country or area *\",\"Year\"],right_on=[\"Entity\",\"Year\"],how=\"left\").drop(\"Entity\",axis=1)\n",
        "x"
      ],
      "metadata": {
        "id": "ZJoZks9O-T2I"
      },
      "execution_count": null,
      "outputs": []
    },
    {
      "cell_type": "code",
      "source": [
        "hospital_bed=pd.read_csv(\"/content/drive/MyDrive/dataset 2/Team/hospital_bed.csv\")\n",
        "hospital_bed.drop([\"INDICATOR\",\"SUBJECT\",\"MEASURE\",\"FREQUENCY\",\"Flag Codes\"],axis=1,inplace=True)\n",
        "hospital_bed.rename({\"TIME\":\"Year\",\"Value\":\"hospital_bed\"},axis=1,inplace=True)"
      ],
      "metadata": {
        "id": "wcht1HAIxp_Q"
      },
      "execution_count": null,
      "outputs": []
    },
    {
      "cell_type": "code",
      "source": [
        "Estimates=Estimates.merge(hospital_bed,left_on=[\"ISO3 Alpha-code\",\"Year\"],right_on=[\"LOCATION\",\"Year\"],how=\"left\").drop(\"LOCATION\",axis=1)"
      ],
      "metadata": {
        "id": "DczBkMhu_gOp"
      },
      "execution_count": null,
      "outputs": []
    },
    {
      "cell_type": "code",
      "source": [
        "\n",
        "Estimates.drop(Additional_column,axis=1,inplace=True)\n",
        "\n"
      ],
      "metadata": {
        "id": "SsZGtI1PD8tj"
      },
      "execution_count": null,
      "outputs": []
    },
    {
      "cell_type": "code",
      "execution_count": null,
      "metadata": {
        "id": "acXrok3ZgJtA"
      },
      "outputs": [],
      "source": [
        "Medium_variant=pd.read_excel(\"/content/drive/MyDrive/WPP2022.xlsx\",sheet_name=\"Medium variant\")"
      ]
    },
    {
      "cell_type": "code",
      "execution_count": null,
      "metadata": {
        "id": "YSCCXFOzgJtA"
      },
      "outputs": [],
      "source": [
        "columns=list(Medium_variant.iloc[15])\n",
        "Medium_variant=Medium_variant[16:]\n",
        "Medium_variant.columns=columns\n",
        "Medium_variant=Medium_variant.set_index(\"Index\")\n",
        "Medium_variant=Medium_variant[Medium_variant.iloc[:,4].notna()]\n",
        "# Medium_variant.drop(Additional_column,axis=1,inplace=True)\n",
        "Medium_variant=Medium_variant[Medium_variant.Year==2022]\n",
        "Medium_variant.replace(\"...\",nan,inplace=True)"
      ]
    },
    {
      "cell_type": "code",
      "source": [
        "# Estimates.to_csv(\"/content/drive/MyDrive/data/Estimates2.csv\",index=None)\n",
        "# Medium_variant.to_csv(\"/content/drive/MyDrive/data/Medium_variant.csv\",index=None)\n",
        "# فایلو بدم بچه ها اشتباه داشت"
      ],
      "metadata": {
        "id": "PPbk5HRhC1b_"
      },
      "execution_count": null,
      "outputs": []
    },
    {
      "cell_type": "code",
      "source": [],
      "metadata": {
        "id": "eVf89_Ee1p8W"
      },
      "execution_count": null,
      "outputs": []
    },
    {
      "cell_type": "code",
      "source": [
        "Estimates"
      ],
      "metadata": {
        "id": "ooR5CSul1qNZ"
      },
      "execution_count": null,
      "outputs": []
    },
    {
      "cell_type": "code",
      "source": [
        "Estimates=pd.read_csv(\"/content/drive/MyDrive/data/Estimates.csv\")\n",
        "Medium_variant=pd.read_csv(\"/content/drive/MyDrive/data/Medium_variant.csv\")"
      ],
      "metadata": {
        "id": "taN27jgf1RPp"
      },
      "execution_count": null,
      "outputs": []
    },
    {
      "cell_type": "markdown",
      "source": [
        "## model "
      ],
      "metadata": {
        "id": "Kh3CZJyXgxUE"
      }
    },
    {
      "cell_type": "code",
      "source": [
        "import pandas as pd\n",
        "Estimates=pd.read_csv(\"/content/drive/MyDrive/data/Estimates.csv\")"
      ],
      "metadata": {
        "id": "7mJzjjlXPSD_"
      },
      "execution_count": null,
      "outputs": []
    },
    {
      "cell_type": "code",
      "source": [
        "\n",
        "Medium_variant=pd.read_csv(\"/content/drive/MyDrive/data/Medium_variant.csv\")"
      ],
      "metadata": {
        "id": "EI96Ql1tUWLo"
      },
      "execution_count": null,
      "outputs": []
    },
    {
      "cell_type": "code",
      "source": [
        "Estimates"
      ],
      "metadata": {
        "id": "5pQVEITlgbaI"
      },
      "execution_count": null,
      "outputs": []
    },
    {
      "cell_type": "code",
      "source": [
        "Medium_variant"
      ],
      "metadata": {
        "id": "WwFB92jQgeLE"
      },
      "execution_count": null,
      "outputs": []
    },
    {
      "cell_type": "code",
      "source": [
        "df_est=pd.get_dummies(transform(Estimates,\"Region, subregion, country or area *\"),columns=[\"Region, subregion, country or area *\"])\n",
        "# df_est=pd.get_dummies(Estimates,columns=[\"Region, subregion, country or area *\"])"
      ],
      "metadata": {
        "id": "SNAtcdccoH3B"
      },
      "execution_count": null,
      "outputs": []
    },
    {
      "cell_type": "code",
      "source": [
        "Medium_variant=Medium_variant.drop(Additional_column,axis=1)"
      ],
      "metadata": {
        "id": "OOxNi_uWqWv3"
      },
      "execution_count": null,
      "outputs": []
    },
    {
      "cell_type": "code",
      "source": [
        "df_med=pd.get_dummies(transform(Medium_variant,\"Region, subregion, country or area *\"),columns=[\"Region, subregion, country or area *\"])\n",
        "# df_med=pd.get_dummies(Medium_variant,columns=[\"Region, subregion, country or area *\"])\n",
        "\n",
        "\n",
        "df_med"
      ],
      "metadata": {
        "id": "AtNjWAG6VTWj"
      },
      "execution_count": null,
      "outputs": []
    },
    {
      "cell_type": "code",
      "source": [],
      "metadata": {
        "id": "0DoWsD5L5QWr"
      },
      "execution_count": null,
      "outputs": []
    },
    {
      "cell_type": "code",
      "source": [
        "# x_col_est=[\"Life Expectancy\" not in c for c in df_est.columns]\n",
        "# y_col_est=[\"Life Expectancy at Birth\" in c for c in df_est.columns]\n",
        "# x=df_est.loc[:,x_col_est].drop(my_feature,axis=1)\n",
        "# y=df_est.loc[:,y_col_est][\"Life Expectancy at Birth, both sexes (years)\"]\n"
      ],
      "metadata": {
        "id": "j03FOLpl2p1w"
      },
      "execution_count": null,
      "outputs": []
    },
    {
      "cell_type": "code",
      "source": [
        "x_col_est=[\"Life Expectancy\" not in c for c in df_est.columns]\n",
        "y_col_est=[\"Life Expectancy at Birth\" in c for c in df_est.columns]\n",
        "df_est_x=df_est.loc[:,x_col_est]\n",
        "df_est_y=df_est.loc[:,y_col_est][\"Life Expectancy at Birth, both sexes (years)\"]\n"
      ],
      "metadata": {
        "id": "6zRDmHZEw9J3"
      },
      "execution_count": null,
      "outputs": []
    },
    {
      "cell_type": "code",
      "source": [],
      "metadata": {
        "id": "MIZKxfIAmgG0"
      },
      "execution_count": null,
      "outputs": []
    },
    {
      "cell_type": "code",
      "source": [
        "x_col_med=[\"Life Expectancy\" not in c for c in df_med.columns]\n",
        "y_col_med=[\"Life Expectancy at Birth\" in c for c in df_med.columns]\n",
        "df_med_x=df_med.loc[:,x_col_med]\n",
        "df_med_y=df_med.loc[:,y_col_med][\"Life Expectancy at Birth, both sexes (years)\"]\n"
      ],
      "metadata": {
        "id": "5HhNRgZPX7VT"
      },
      "execution_count": null,
      "outputs": []
    },
    {
      "cell_type": "code",
      "source": [],
      "metadata": {
        "id": "wQtg9KSDD0x0"
      },
      "execution_count": null,
      "outputs": []
    },
    {
      "cell_type": "code",
      "source": [],
      "metadata": {
        "id": "Q3dUEv3QD004"
      },
      "execution_count": null,
      "outputs": []
    },
    {
      "cell_type": "code",
      "source": [],
      "metadata": {
        "id": "6mVMVeyKD04W"
      },
      "execution_count": null,
      "outputs": []
    },
    {
      "cell_type": "code",
      "source": [],
      "metadata": {
        "id": "iOeSJJFiD077"
      },
      "execution_count": null,
      "outputs": []
    },
    {
      "cell_type": "code",
      "source": [],
      "metadata": {
        "id": "a6tUYWmaXAfn"
      },
      "execution_count": null,
      "outputs": []
    },
    {
      "cell_type": "markdown",
      "source": [
        "## tree\n"
      ],
      "metadata": {
        "id": "5PjvkeKkP58N"
      }
    },
    {
      "cell_type": "code",
      "source": [],
      "metadata": {
        "id": "FtEqSMDOD5BA"
      },
      "execution_count": null,
      "outputs": []
    },
    {
      "cell_type": "code",
      "source": [
        "from sklearn.model_selection import train_test_split\n",
        "from sklearn.preprocessing import StandardScaler \n",
        "from sklearn.tree import DecisionTreeRegressor \n",
        "from sklearn.metrics import r2_score"
      ],
      "metadata": {
        "id": "X9SNPTTFJOqO"
      },
      "execution_count": null,
      "outputs": []
    },
    {
      "cell_type": "code",
      "source": [
        "my_feature=Estimates.columns[-5:]\n",
        "#@"
      ],
      "metadata": {
        "id": "Bt_243Fd2I-u"
      },
      "execution_count": null,
      "outputs": []
    },
    {
      "cell_type": "code",
      "source": [
        "df_est.head(2)"
      ],
      "metadata": {
        "id": "_b7Bt855FAiM"
      },
      "execution_count": null,
      "outputs": []
    },
    {
      "cell_type": "code",
      "source": [
        "df_est_x.head(2)"
      ],
      "metadata": {
        "id": "fPBggNaGSCUE"
      },
      "execution_count": null,
      "outputs": []
    },
    {
      "cell_type": "code",
      "source": [
        "my_feature_total=Estimates.columns[-5:].to_list()"
      ],
      "metadata": {
        "id": "GpWvAosQUss0"
      },
      "execution_count": null,
      "outputs": []
    },
    {
      "cell_type": "code",
      "source": [
        "my_feature=my_feature_total.copy()\n",
        "my_feature2=[]"
      ],
      "metadata": {
        "id": "DA-Yclvtn01k"
      },
      "execution_count": null,
      "outputs": []
    },
    {
      "cell_type": "code",
      "source": [
        "r2_my_feature=dict()\n",
        "medium_my_feature = dict()"
      ],
      "metadata": {
        "id": "9-ALsIXCSWnI"
      },
      "execution_count": null,
      "outputs": []
    },
    {
      "cell_type": "code",
      "source": [
        "my_feature"
      ],
      "metadata": {
        "id": "Jzk_v6p-jT_6"
      },
      "execution_count": null,
      "outputs": []
    },
    {
      "cell_type": "code",
      "source": [
        "# x_last=df_est.drop(my_feature_total,axis=1)\n",
        "# y_last=df_est[[my_feature2[-1]]]\n",
        "# my_feature2.append(  \"2 \" + my_feature2[-1] )"
      ],
      "metadata": {
        "id": "MGbv58xITTVQ"
      },
      "execution_count": null,
      "outputs": []
    },
    {
      "cell_type": "code",
      "source": [
        "# x=x_last.columns.isin(df_med.columns)\n",
        "# x_last.loc[:,~x]"
      ],
      "metadata": {
        "id": "J1h0CRV-LvDy"
      },
      "execution_count": null,
      "outputs": []
    },
    {
      "cell_type": "code",
      "source": [
        "for i in range(len(my_feature_total)):\n",
        "  x_last=df_est_x.drop(my_feature_total,axis=1)\n",
        "  my_feature2.append(my_feature.pop(-1))\n",
        "  y_last=df_est_x[[my_feature2[-1]]]\n",
        "\n",
        "  x_train,x_test , y_train,y_test = train_test_split(x_last, y_last ,test_size=.2, random_state=33)\n",
        "\n",
        "  std_scaler = StandardScaler().fit(x_train)\n",
        "  x_train = std_scaler.transform(x_train)\n",
        "\n",
        "\n",
        "  \n",
        "  regressor = DecisionTreeRegressor(random_state = 33)\n",
        "  regressor.fit(x_train, y_train)\n",
        "  print(my_feature2[-1])\n",
        "\n",
        "  y_pred = regressor.predict(std_scaler.transform(x_test))\n",
        "\n",
        "\n",
        "  r2_my_feature[my_feature2[-1]]=r2_score(y_test, y_pred)\n",
        "\n",
        "\n",
        "  if r2_my_feature[my_feature2[-1]] > 0.8:\n",
        "    medium_my_feature[my_feature2[-1]] = regressor.predict(std_scaler.transform(df_med_x))\n",
        "\n",
        "\n",
        "else:\n",
        "  for i,j in r2_my_feature.items():\n",
        "    print(i,\" : \", j)"
      ],
      "metadata": {
        "id": "C9ODw8jpcZo8"
      },
      "execution_count": null,
      "outputs": []
    },
    {
      "cell_type": "code",
      "source": [
        "my_feature_in_medium=list(medium_my_feature.keys())\n",
        "my_feature_in_medium"
      ],
      "metadata": {
        "id": "bjWRhiarl2P3"
      },
      "execution_count": null,
      "outputs": []
    },
    {
      "cell_type": "code",
      "source": [
        "pd.DataFrame(medium_my_feature)"
      ],
      "metadata": {
        "id": "_0RLIMUDlGbA"
      },
      "execution_count": null,
      "outputs": []
    },
    {
      "cell_type": "code",
      "source": [
        "df_med_x"
      ],
      "metadata": {
        "id": "rBEqhGu2wIPR"
      },
      "execution_count": null,
      "outputs": []
    },
    {
      "cell_type": "code",
      "source": [
        "\n",
        "df_med_x=pd.concat([df_med_x,pd.DataFrame(medium_my_feature)],axis=1)\n",
        "df_med_x"
      ],
      "metadata": {
        "id": "9yp7rdWzmPRB"
      },
      "execution_count": null,
      "outputs": []
    },
    {
      "cell_type": "code",
      "source": [
        "df_med_x"
      ],
      "metadata": {
        "id": "sZA4B9IIl3Li"
      },
      "execution_count": null,
      "outputs": []
    },
    {
      "cell_type": "code",
      "source": [
        "df_med_y"
      ],
      "metadata": {
        "id": "bopvNyYnwQ7u"
      },
      "execution_count": null,
      "outputs": []
    },
    {
      "cell_type": "markdown",
      "source": [
        "## predicting Life Expectancy at Birth, both sexes \n",
        "### decesion tree in sklearn"
      ],
      "metadata": {
        "id": "cpGHrdHow7cg"
      }
    },
    {
      "cell_type": "code",
      "source": [
        "x_train,x_test , y_train,y_test = train_test_split(df_med_x, df_med_y ,test_size=.2, random_state=33)\n",
        "\n",
        "std_scaler = StandardScaler().fit(x_train)\n",
        "x_train = std_scaler.transform(x_train)\n",
        "\n",
        "\n",
        "  \n"
      ],
      "metadata": {
        "id": "kx2lO_Y2wbDv"
      },
      "execution_count": null,
      "outputs": []
    },
    {
      "cell_type": "code",
      "source": [
        "regressor = DecisionTreeRegressor(random_state = 33)\n",
        "regressor.fit(x_train, y_train)\n",
        "\n",
        "\n",
        "y_pred = regressor.predict(std_scaler.transform(x_test))\n",
        "\n",
        "\n",
        "r2_score(y_test, y_pred)"
      ],
      "metadata": {
        "id": "QENuu2AJxnev"
      },
      "execution_count": null,
      "outputs": []
    },
    {
      "cell_type": "code",
      "source": [
        "# ! pip install h2o"
      ],
      "metadata": {
        "id": "Oc6W6X_uyoIy"
      },
      "execution_count": null,
      "outputs": []
    },
    {
      "cell_type": "code",
      "source": [
        "import h2o"
      ],
      "metadata": {
        "id": "QgN1eQ5Qyq0Z"
      },
      "execution_count": null,
      "outputs": []
    },
    {
      "cell_type": "code",
      "source": [
        "h2o.init()"
      ],
      "metadata": {
        "id": "_-45NhlOy2O-"
      },
      "execution_count": null,
      "outputs": []
    },
    {
      "cell_type": "code",
      "source": [
        "\n",
        "\n",
        "# from h2o.tree import H2OTree\n",
        "# from h2o.estimators import H2OGradientBoostingEstimator\n",
        "# # airlines = h2o.import_file(\"https://s3.amazonaws.com/h2o-public-test-data/smalldata/airlines/AirlinesTrain.csv\")\n",
        "# gbm = H2OGradientBoostingEstimator(ntrees=1)\n",
        "# gbm.train(x=df_med_x, y=df_med_y \n",
        "#           training_frame=airlines)\n",
        "# tree = H2OTree(model = gbm, tree_number = 0 , tree_class = \"NO\")\n",
        "# tree.predictions"
      ],
      "metadata": {
        "id": "SOWt0Y_UwqJK"
      },
      "execution_count": null,
      "outputs": []
    },
    {
      "cell_type": "markdown",
      "source": [
        "## predicting Life Expectancy at Birth, both sexes \n",
        "### RandomForestRegressor in sklearn"
      ],
      "metadata": {
        "id": "xsTeBtet1ioo"
      }
    },
    {
      "cell_type": "code",
      "source": [
        "x_train,x_test , y_train,y_test = train_test_split(df_med_x, df_med_y ,test_size=.2, random_state=33)\n",
        "\n",
        "std_scaler = StandardScaler().fit(x_train)\n",
        "x_train = std_scaler.transform(x_train)\n",
        "\n",
        "\n",
        "  \n"
      ],
      "metadata": {
        "id": "1lL3srz90k_m"
      },
      "execution_count": null,
      "outputs": []
    },
    {
      "cell_type": "code",
      "source": [
        "from sklearn.ensemble import RandomForestRegressor\n",
        "\n",
        "rf = RandomForestRegressor(n_estimators = 1000, random_state = 33)\n",
        "\n",
        "rf.fit(x_train, y_train);\n",
        "\n",
        "predictions = rf.predict(std_scaler.transform(x_test))\n",
        "r2_score(y_test, predictions)"
      ],
      "metadata": {
        "id": "-ENzmpfQw5p6"
      },
      "execution_count": null,
      "outputs": []
    },
    {
      "cell_type": "code",
      "source": [
        "regressor = DecisionTreeRegressor(random_state = 33)\n",
        "regressor.fit(x_train, y_train)\n",
        "\n",
        "\n",
        "y_pred = regressor.predict(std_scaler.transform(x_test))\n",
        "\n",
        "\n"
      ],
      "metadata": {
        "id": "clEnb2T7w544"
      },
      "execution_count": null,
      "outputs": []
    },
    {
      "cell_type": "code",
      "source": [],
      "metadata": {
        "id": "k1bjRi2ew5-m"
      },
      "execution_count": null,
      "outputs": []
    },
    {
      "cell_type": "code",
      "source": [],
      "metadata": {
        "id": "mME8sCRz1uM4"
      },
      "execution_count": null,
      "outputs": []
    },
    {
      "cell_type": "code",
      "source": [],
      "metadata": {
        "id": "QkCoBFxi1uRc"
      },
      "execution_count": null,
      "outputs": []
    },
    {
      "cell_type": "code",
      "source": [],
      "metadata": {
        "id": "HszCn6el1uVa"
      },
      "execution_count": null,
      "outputs": []
    }
  ]
}