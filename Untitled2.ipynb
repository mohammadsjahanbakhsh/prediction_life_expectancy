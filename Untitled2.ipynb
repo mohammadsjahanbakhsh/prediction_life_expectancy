{
  "nbformat": 4,
  "nbformat_minor": 0,
  "metadata": {
    "colab": {
      "private_outputs": true,
      "provenance": [],
      "mount_file_id": "1IOYIcjNOpiX36O35yfoyl-r03j65iPXd",
      "authorship_tag": "ABX9TyPF28XnbAU14ogR5pGFDlz+",
      "include_colab_link": true
    },
    "kernelspec": {
      "name": "python3",
      "display_name": "Python 3"
    },
    "language_info": {
      "name": "python"
    },
    "gpuClass": "standard"
  },
  "cells": [
    {
      "cell_type": "markdown",
      "metadata": {
        "id": "view-in-github",
        "colab_type": "text"
      },
      "source": [
        "<a href=\"https://colab.research.google.com/github/mohammadsjahanbakhsh/project2_quera/blob/main/Untitled2.ipynb\" target=\"_parent\"><img src=\"https://colab.research.google.com/assets/colab-badge.svg\" alt=\"Open In Colab\"/></a>"
      ]
    },
    {
      "cell_type": "markdown",
      "source": [
        "## preprocessing"
      ],
      "metadata": {
        "id": "D7dOxUhog1TI"
      }
    },
    {
      "cell_type": "code",
      "source": [
        "import pandas as pd\n",
        "from google.colab import drive\n",
        "drive.mount('/content/drive')"
      ],
      "metadata": {
        "id": "JTyL4-8BCrUk"
      },
      "execution_count": null,
      "outputs": []
    },
    {
      "cell_type": "code",
      "source": [
        "\n",
        "\n",
        "def transform(dataset,country_column) :\n",
        "       \n",
        "        \n",
        "        cols_with_na = dataset.isna().sum()[dataset.isna().sum()>0].index.tolist()\n",
        "        \n",
        "        for col in cols_with_na : \n",
        "          \n",
        "          dataset[col]=dataset.groupby([country_column])[col].transform(lambda x: x.fillna(x.mean()))\n",
        "          \n",
        "        cols_with_na = dataset.isna().sum()[dataset.isna().sum()>0].index.tolist()\n",
        "        \n",
        "        for col in cols_with_na : \n",
        "            dataset.loc[:,col].fillna(dataset[col].median(),inplace=True)\n",
        "            \n",
        "        \n",
        "        return dataset\n",
        "\n",
        "\n",
        "\n",
        "def transform2(dataset,drop_list):\n",
        "  dataset=dataset[dataset.Year>=1950]\n",
        "  dataset.drop(drop_list,axis=1,inplace=True)\n",
        "\n",
        "  return dataset\n",
        "\n",
        "transform3 =lambda x:pd.get_dummies(transform(x,\"Region, subregion, country or area *\"),columns=[\"Region, subregion, country or area *\"])"
      ],
      "metadata": {
        "id": "IC7lh54F1XeO"
      },
      "execution_count": null,
      "outputs": []
    },
    {
      "cell_type": "code",
      "source": [],
      "metadata": {
        "id": "RXpW8IhThudA"
      },
      "execution_count": null,
      "outputs": []
    },
    {
      "cell_type": "code",
      "execution_count": null,
      "metadata": {
        "id": "9XK76QZH008K"
      },
      "outputs": [],
      "source": [
        "death=pd.read_csv(\"/content/drive/MyDrive/data/suicide-vs-violent-deaths.csv\")"
      ]
    },
    {
      "cell_type": "code",
      "source": [
        "death=transform2(death,['Population (historical estimates)', 'Continent',\"Code\"])\n",
        "# death=transform(death,'Entity')"
      ],
      "metadata": {
        "id": "FD5xdcYx008P"
      },
      "execution_count": null,
      "outputs": []
    },
    {
      "cell_type": "code",
      "source": [
        "vaccine=pd.read_csv(\"/content/drive/MyDrive/quera ama/dataset 2/child-mortality-vs-share-of-children-immunized-against-diphtheria-pertussis-and-tetanus.csv\")\n",
        "vaccine=transform2(vaccine,['Population (historical estimates)', 'Continent','Code',\"Mortality rate, under-5 (per 1,000 live births)\"])\n",
        "# vaccine=transform(vaccine,'Entity')"
      ],
      "metadata": {
        "id": "SJ8qn_C5008Q"
      },
      "execution_count": null,
      "outputs": []
    },
    {
      "cell_type": "code",
      "source": [
        "gdp=pd.read_csv(\"/content/drive/MyDrive/dataset 2/life-expectancy-vs-gdp-per-capita.csv\")\n",
        "gdp.columns"
      ],
      "metadata": {
        "id": "PmiR6ZmvozN6"
      },
      "execution_count": null,
      "outputs": []
    },
    {
      "cell_type": "code",
      "source": [
        "gdp=transform2(gdp,['Code', 'Life expectancy at birth (historical)','417485-annotations','Population (historical estimates)','Continent'])\n",
        "# gdp=transform(gdp,'Entity')"
      ],
      "metadata": {
        "id": "vYGXPQ4IpDrZ"
      },
      "execution_count": null,
      "outputs": []
    },
    {
      "cell_type": "code",
      "execution_count": null,
      "metadata": {
        "id": "LDpUSqBkARhR"
      },
      "outputs": [],
      "source": [
        "Estimates=pd.read_excel(\"/content/drive/MyDrive/WPP2022.xlsx\",sheet_name=\"Estimates\")\n"
      ]
    },
    {
      "cell_type": "code",
      "execution_count": null,
      "metadata": {
        "id": "k2KVn3L3ARhS"
      },
      "outputs": [],
      "source": [
        "from numpy import nan\n",
        "\n",
        "columns=list(Estimates.iloc[15])\n",
        "Estimates=Estimates[16:]\n",
        "Estimates.columns=columns\n",
        "Estimates=Estimates.set_index(\"Index\")\n",
        "\n",
        "Estimates=Estimates.loc[Estimates.iloc[:,4].notna(),:]\n",
        "Estimates.replace(\"...\",nan,inplace=True)"
      ]
    },
    {
      "cell_type": "code",
      "source": [
        "x=vaccine.merge(death,how=\"outer\").merge(gdp,how=\"outer\")\n",
        "\n",
        "Estimates=Estimates.merge(x,left_on=[\"Region, subregion, country or area *\",\"Year\"],right_on=[\"Entity\",\"Year\"],how=\"left\").drop(\"Entity\",axis=1)\n",
        "x"
      ],
      "metadata": {
        "id": "ZJoZks9O-T2I"
      },
      "execution_count": null,
      "outputs": []
    },
    {
      "cell_type": "code",
      "source": [
        "hospital_bed=pd.read_csv(\"/content/drive/MyDrive/dataset 2/Team/hospital_bed.csv\")\n",
        "hospital_bed.drop([\"INDICATOR\",\"SUBJECT\",\"MEASURE\",\"FREQUENCY\",\"Flag Codes\"],axis=1,inplace=True)\n",
        "hospital_bed.rename({\"TIME\":\"Year\",\"Value\":\"hospital_bed\"},axis=1,inplace=True)"
      ],
      "metadata": {
        "id": "wcht1HAIxp_Q"
      },
      "execution_count": null,
      "outputs": []
    },
    {
      "cell_type": "code",
      "source": [
        "Estimates=Estimates.merge(hospital_bed,left_on=[\"ISO3 Alpha-code\",\"Year\"],right_on=[\"LOCATION\",\"Year\"],how=\"left\").drop(\"LOCATION\",axis=1)"
      ],
      "metadata": {
        "id": "DczBkMhu_gOp"
      },
      "execution_count": null,
      "outputs": []
    },
    {
      "cell_type": "code",
      "source": [
        "Additional_column=[\"Variant\",\"Notes\",\"ISO3 Alpha-code\",\"ISO2 Alpha-code\",\"SDMX code**\",\"Type\",\"Location code\",\"Parent code\"]\n",
        "Estimates.drop(Additional_column,axis=1,inplace=True)\n",
        "\n"
      ],
      "metadata": {
        "id": "SsZGtI1PD8tj"
      },
      "execution_count": null,
      "outputs": []
    },
    {
      "cell_type": "code",
      "execution_count": null,
      "metadata": {
        "id": "acXrok3ZgJtA"
      },
      "outputs": [],
      "source": [
        "Medium_variant=pd.read_excel(\"/content/drive/MyDrive/WPP2022.xlsx\",sheet_name=\"Medium variant\")"
      ]
    },
    {
      "cell_type": "code",
      "execution_count": null,
      "metadata": {
        "id": "YSCCXFOzgJtA"
      },
      "outputs": [],
      "source": [
        "columns=list(Medium_variant.iloc[15])\n",
        "Medium_variant=Medium_variant[16:]\n",
        "Medium_variant.columns=columns\n",
        "Medium_variant=Medium_variant.set_index(\"Index\")\n",
        "Medium_variant=Medium_variant[Medium_variant.iloc[:,4].notna()]\n",
        "# Medium_variant.drop(Additional_column,axis=1,inplace=True)\n",
        "Medium_variant=Medium_variant[Medium_variant.Year==2022]\n",
        "Medium_variant.replace(\"...\",nan,inplace=True)"
      ]
    },
    {
      "cell_type": "code",
      "source": [
        "Estimates.to_csv(\"/content/drive/MyDrive/data/Estimates.csv\",index=None)\n",
        "Medium_variant.to_csv(\"/content/drive/MyDrive/data/Medium_variant.csv\",index=None)\n",
        "# فایلو بدم بچه ها اشتباه داشت"
      ],
      "metadata": {
        "id": "PPbk5HRhC1b_"
      },
      "execution_count": null,
      "outputs": []
    },
    {
      "cell_type": "code",
      "source": [],
      "metadata": {
        "id": "eVf89_Ee1p8W"
      },
      "execution_count": null,
      "outputs": []
    },
    {
      "cell_type": "code",
      "source": [
        "Estimates"
      ],
      "metadata": {
        "id": "ooR5CSul1qNZ"
      },
      "execution_count": null,
      "outputs": []
    },
    {
      "cell_type": "code",
      "source": [
        "Estimates=pd.read_csv(\"/content/drive/MyDrive/data/Estimates.csv\")\n",
        "Medium_variant=pd.read_csv(\"/content/drive/MyDrive/data/Medium_variant.csv\")"
      ],
      "metadata": {
        "id": "taN27jgf1RPp"
      },
      "execution_count": null,
      "outputs": []
    },
    {
      "cell_type": "markdown",
      "source": [
        "## model "
      ],
      "metadata": {
        "id": "Kh3CZJyXgxUE"
      }
    },
    {
      "cell_type": "code",
      "source": [
        "import pandas as pd\n",
        "# Estimates=pd.read_csv(\"/content/drive/MyDrive/data/Estimates.csv\")"
      ],
      "metadata": {
        "id": "7mJzjjlXPSD_"
      },
      "execution_count": null,
      "outputs": []
    },
    {
      "cell_type": "code",
      "source": [
        "\n",
        "# Medium_variant=pd.read_csv(\"/content/drive/MyDrive/data/Medium_variant.csv\")"
      ],
      "metadata": {
        "id": "EI96Ql1tUWLo"
      },
      "execution_count": null,
      "outputs": []
    },
    {
      "cell_type": "code",
      "source": [
        "df_est=pd.get_dummies(transform(Estimates,\"Region, subregion, country or area *\"),columns=[\"Region, subregion, country or area *\"])"
      ],
      "metadata": {
        "id": "SNAtcdccoH3B"
      },
      "execution_count": null,
      "outputs": []
    },
    {
      "cell_type": "code",
      "source": [
        "Medium_variant=Medium_variant.drop(Additional_column,axis=1)"
      ],
      "metadata": {
        "id": "OOxNi_uWqWv3"
      },
      "execution_count": null,
      "outputs": []
    },
    {
      "cell_type": "code",
      "source": [
        "df_med=pd.get_dummies(transform(Medium_variant,\"Region, subregion, country or area *\"),columns=[\"Region, subregion, country or area *\"])\n",
        "\n",
        "\n"
      ],
      "metadata": {
        "id": "AtNjWAG6VTWj"
      },
      "execution_count": null,
      "outputs": []
    },
    {
      "cell_type": "code",
      "source": [
        "my_feature=Estimates.columns[-5:]"
      ],
      "metadata": {
        "id": "Bt_243Fd2I-u"
      },
      "execution_count": null,
      "outputs": []
    },
    {
      "cell_type": "code",
      "source": [
        "x_col=df_est.drop(my_feature[-1],axis=1)\n",
        "y_col=df_est[[my_feature[-1]]]"
      ],
      "metadata": {
        "id": "NR1lfZuy2lPi"
      },
      "execution_count": null,
      "outputs": []
    },
    {
      "cell_type": "code",
      "source": [],
      "metadata": {
        "id": "0DoWsD5L5QWr"
      },
      "execution_count": null,
      "outputs": []
    },
    {
      "cell_type": "code",
      "source": [
        "x_col_est=[\"Life Expectancy\" not in c for c in df_est.columns]\n",
        "y_col_est=[\"Life Expectancy at Birth\" in c for c in df_est.columns]\n",
        "x=df_est.loc[:,x_col_est].drop(my_feature,axis=1)\n",
        "y=df_est.loc[:,y_col_est][\"Life Expectancy at Birth, both sexes (years)\"]\n"
      ],
      "metadata": {
        "id": "j03FOLpl2p1w"
      },
      "execution_count": null,
      "outputs": []
    },
    {
      "cell_type": "code",
      "source": [
        "x_col_est=[\"Life Expectancy\" not in c for c in df_est.columns]\n",
        "y_col_est=[\"Life Expectancy at Birth\" in c for c in df_est.columns]\n",
        "x=df_est.loc[:,x_col_est]\n",
        "y=df_est.loc[:,y_col_est][\"Life Expectancy at Birth, both sexes (years)\"]\n"
      ],
      "metadata": {
        "id": "6zRDmHZEw9J3"
      },
      "execution_count": null,
      "outputs": []
    },
    {
      "cell_type": "code",
      "source": [],
      "metadata": {
        "id": "iDkXsIcS2iHF"
      },
      "execution_count": null,
      "outputs": []
    },
    {
      "cell_type": "code",
      "source": [
        "x_col_med=[\"Life Expectancy\" not in c for c in df_med.columns]\n",
        "y_col_med=[\"Life Expectancy at Birth\" in c for c in df_med.columns]\n",
        "x_med=df_med.loc[:,x_col_med]\n",
        "y_med=df_med.loc[:,y_col_med][\"Life Expectancy at Birth, both sexes (years)\"]\n"
      ],
      "metadata": {
        "id": "5HhNRgZPX7VT"
      },
      "execution_count": null,
      "outputs": []
    },
    {
      "cell_type": "code",
      "source": [],
      "metadata": {
        "id": "wWZYE3i_Wf2d"
      },
      "execution_count": null,
      "outputs": []
    },
    {
      "cell_type": "code",
      "source": [
        "from sklearn.model_selection import train_test_split\n",
        "from sklearn.linear_model import LinearRegression , LogisticRegression\n",
        "from sklearn.preprocessing import StandardScaler"
      ],
      "metadata": {
        "id": "5nVsid09XRQO"
      },
      "execution_count": null,
      "outputs": []
    },
    {
      "cell_type": "code",
      "source": [
        "# x_train,x_test , y_train,y_test = train_test_split(x, y ,test_size=.2, random_state=313)\n",
        "\n",
        "\n",
        "std_scaler = StandardScaler().fit(x)\n",
        "x_train = std_scaler.transform(x)"
      ],
      "metadata": {
        "id": "UpYtbnnnW3ye"
      },
      "execution_count": null,
      "outputs": []
    },
    {
      "cell_type": "code",
      "source": [
        "model = LinearRegression()\n",
        "model.fit(x_train, y)"
      ],
      "metadata": {
        "id": "x1mnwlocXesT"
      },
      "execution_count": null,
      "outputs": []
    },
    {
      "cell_type": "code",
      "source": [
        "# std_scaler = StandardScaler().fit(x_med)\n",
        "# x_med = std_scaler.transform(x_med)"
      ],
      "metadata": {
        "id": "R9br6tELygUP"
      },
      "execution_count": null,
      "outputs": []
    },
    {
      "cell_type": "code",
      "source": [
        "from sklearn.metrics import r2_score\n",
        "\n",
        "y_pred = model.predict(std_scaler.transform(x_med))\n",
        "\n",
        "\n",
        "r2_score(y_med, y_pred)"
      ],
      "metadata": {
        "id": "5_B-v8gXXvM1"
      },
      "execution_count": null,
      "outputs": []
    },
    {
      "cell_type": "code",
      "source": [
        "y_pred"
      ],
      "metadata": {
        "id": "izeT_U8M5z5b"
      },
      "execution_count": null,
      "outputs": []
    },
    {
      "cell_type": "code",
      "source": [],
      "metadata": {
        "id": "_gInQu2b0sDb"
      },
      "execution_count": null,
      "outputs": []
    },
    {
      "cell_type": "code",
      "source": [
        "from sklearn.metrics import r2_score\n",
        "\n",
        "y_pred = model.predict(std_scaler.transform(x_test))\n",
        "\n",
        "\n",
        "r2_score(y_test, y_pred)"
      ],
      "metadata": {
        "id": "JNaHH7rYxqTt"
      },
      "execution_count": null,
      "outputs": []
    },
    {
      "cell_type": "code",
      "source": [
        "y_pred = model.predict(std_scaler.transform(x_test))\n",
        "\n",
        "\n",
        "r2_score(y_test, y_pred)"
      ],
      "metadata": {
        "id": "abXCLe2_YEO2"
      },
      "execution_count": null,
      "outputs": []
    },
    {
      "cell_type": "code",
      "source": [],
      "metadata": {
        "id": "3FD5G4cOXwxP"
      },
      "execution_count": null,
      "outputs": []
    },
    {
      "cell_type": "code",
      "source": [],
      "metadata": {
        "id": "a6tUYWmaXAfn"
      },
      "execution_count": null,
      "outputs": []
    },
    {
      "cell_type": "markdown",
      "source": [
        "## logestic"
      ],
      "metadata": {
        "id": "5PjvkeKkP58N"
      }
    },
    {
      "cell_type": "code",
      "source": [
        "from sklearn.model_selection import train_test_split\n",
        "\n",
        "from sklearn.linear_model import LogisticRegression\n",
        "from sklearn.preprocessing import StandardScaler\n"
      ],
      "metadata": {
        "id": "djJJHDLFQWHc"
      },
      "execution_count": null,
      "outputs": []
    },
    {
      "cell_type": "code",
      "source": [
        "x_train,x_test , y_train,y_test = train_test_split(x,y, test_size=.2, random_state=313)\n",
        "\n",
        "std_scaler = StandardScaler()\n",
        "x_train = std_scaler.fit_transform(x_train)"
      ],
      "metadata": {
        "id": "XwaIs86JP97D"
      },
      "execution_count": null,
      "outputs": []
    },
    {
      "cell_type": "code",
      "source": [],
      "metadata": {
        "id": "-uWCBj0YQjIS"
      },
      "execution_count": null,
      "outputs": []
    },
    {
      "cell_type": "code",
      "source": [
        "\n",
        "model = LogisticRegression()\n",
        "model.fit(x_train, y_train)"
      ],
      "metadata": {
        "id": "i1O5cvN5QQwL"
      },
      "execution_count": null,
      "outputs": []
    }
  ]
}